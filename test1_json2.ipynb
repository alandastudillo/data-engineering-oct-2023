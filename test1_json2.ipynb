{
 "cells": [
  {
   "cell_type": "markdown",
   "metadata": {},
   "source": [
    "Save a bunch of files from a json"
   ]
  },
  {
   "cell_type": "code",
   "execution_count": null,
   "metadata": {},
   "outputs": [],
   "source": [
    "import ijson\n",
    "import json\n",
    "\n",
    "path_name = 'D:\\\\data_researchgraph\\\\json\\\\'\n",
    "file_name = 'artificial_intelligence.json'\n",
    "output_name = 'D:\\\\data_researchgraph\\\\json\\\\'\n",
    "\n",
    "user_to_repos = {}\n",
    "contador = 0\n",
    "#limite = 10\n",
    "\n",
    "with open(path_name+file_name, \"rb\") as f:\n",
    "    for record in ijson.items(f, \"item\"):\n",
    "        print('converting file n ' + str(contador+1)) \n",
    "\n",
    "        id = record[\"_id\"]\n",
    "        url = record[\"URL\"]\n",
    "        if 'author' in record:\n",
    "            author = record[\"author\"]\n",
    "        else:\n",
    "            author = 'no'\n",
    "\n",
    "        doi = record[\"DOI\"]\n",
    "        ref_count = record['reference-count'] #: 0,\n",
    "        if ref_count>0:\n",
    "            ref = record[\"reference\"]\n",
    "        else:\n",
    "            ref = 'no'\n",
    "\n",
    "        new_record = {'id': id, 'url': url, 'author': author, 'doi': doi, 'ref': ref}\n",
    "\n",
    "        #record.to_json(path_name+'chunk_{}.json'.format(i))\n",
    "        with open(path_name+'paper_{}.json'.format(contador+1), \"w\") as fp:\n",
    "            json.dump(new_record , fp, indent=4) \n",
    "\n",
    "        #user = record[\"actor\"][\"login\"]\n",
    "        #repo = record[\"repo\"][\"name\"]\n",
    "        #if user not in user_to_repos:\n",
    "        #    user_to_repos[user] = set()\n",
    "        #user_to_repos[user].add(repo)\n",
    "\n",
    "        contador = contador + 1\n",
    "        #if contador==limite:\n",
    "        #    break"
   ]
  },
  {
   "cell_type": "code",
   "execution_count": null,
   "metadata": {},
   "outputs": [],
   "source": [
    "record"
   ]
  }
 ],
 "metadata": {
  "kernelspec": {
   "display_name": "Python 3 (ipykernel)",
   "language": "python",
   "name": "python3"
  },
  "language_info": {
   "codemirror_mode": {
    "name": "ipython",
    "version": 3
   },
   "file_extension": ".py",
   "mimetype": "text/x-python",
   "name": "python",
   "nbconvert_exporter": "python",
   "pygments_lexer": "ipython3",
   "version": "3.11.4"
  }
 },
 "nbformat": 4,
 "nbformat_minor": 4
}
